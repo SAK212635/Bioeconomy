{
 "cells": [
  {
   "cell_type": "markdown",
   "metadata": {
    "collapsed": false
   },
   "source": [
    "# 2 Boolean Algebra"
   ]
  },
  {
   "cell_type": "markdown",
   "metadata": {
    "collapsed": false,
    "deletable": false,
    "editable": false
   },
   "source": [
    "### Task 1\n",
    "**Find the missing values**\n",
    "\n",
    "**a) d = False**"
   ]
  },
  {
   "cell_type": "code",
   "execution_count": null,
   "metadata": {
    "ExecuteTime": {
     "end_time": "2023-08-05T11:34:59.058378Z",
     "start_time": "2023-08-05T11:34:59.034394Z"
    },
    "collapsed": false,
    "tags": []
   },
   "outputs": [],
   "source": [
    "a = False\n",
    "b = ...\n",
    "c = 0 < a\n",
    "d = c or not a and not b"
   ]
  },
  {
   "cell_type": "markdown",
   "metadata": {
    "collapsed": false,
    "deletable": false,
    "editable": false
   },
   "source": [
    "**b) g = True**\n",
    "**&nbsp;&nbsp;&nbsp;&nbsp;&nbsp;j = False**\n"
   ]
  },
  {
   "cell_type": "code",
   "execution_count": null,
   "metadata": {
    "ExecuteTime": {
     "end_time": "2023-08-05T11:34:59.066398Z",
     "start_time": "2023-08-05T11:34:59.038387Z"
    },
    "collapsed": false,
    "tags": []
   },
   "outputs": [],
   "source": [
    "e = True\n",
    "f = ...\n",
    "g = 1 > f and e\n",
    "h = ...\n",
    "j = g and e and not f ^ h"
   ]
  }
 ],
 "metadata": {
  "kernelspec": {
   "display_name": "Python 3",
   "language": "python",
   "name": "python3"
  },
  "language_info": {
   "codemirror_mode": {
    "name": "ipython",
    "version": 2
   },
   "file_extension": ".py",
   "mimetype": "text/x-python",
   "name": "python",
   "nbconvert_exporter": "python",
   "pygments_lexer": "ipython2",
   "version": "2.7.6"
  },
  "otter": {
   "OK_FORMAT": true,
   "tests": {
    "Task 1.1": {
     "name": "Task 1.1",
     "points": null,
     "suites": [
      {
       "cases": [
        {
         "code": ">>> assert d == False or d == 0\n",
         "failure_message": "Test failed. Keep the precedence in mind (NOT before AND before OR) and another hint, c is evaluated to False because a is interpreted as 0.",
         "hidden": false,
         "locked": false,
         "points": 1
        }
       ],
       "scored": true,
       "setup": "",
       "teardown": "",
       "type": "doctest"
      }
     ]
    },
    "Task 1.2": {
     "name": "Task 1.2",
     "points": null,
     "suites": [
      {
       "cases": [
        {
         "code": ">>> assert (j == False or j == 0) and (g == True or g == 1)\n",
         "failure_message": "Test failed. Keep the precedence in mind.",
         "hidden": false,
         "locked": false,
         "points": 1
        }
       ],
       "scored": true,
       "setup": "",
       "teardown": "",
       "type": "doctest"
      }
     ]
    }
   }
  }
 },
 "nbformat": 4,
 "nbformat_minor": 0
}
