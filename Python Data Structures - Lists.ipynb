{
 "cells": [
  {
   "cell_type": "markdown",
   "metadata": {
    "collapsed": false
   },
   "source": [
    "# 3 Python Data Structures - List"
   ]
  },
  {
   "cell_type": "markdown",
   "metadata": {
    "collapsed": false,
    "deletable": false,
    "editable": false
   },
   "source": [
    "### Task 1\n",
    "**1.1 Creat a list my_fruits with the following items (use the given order): apple, cherry, peach, banana and strawberry.**"
   ]
  },
  {
   "cell_type": "code",
   "execution_count": null,
   "metadata": {
    "ExecuteTime": {
     "end_time": "2023-09-04T08:15:39.415501Z",
     "start_time": "2023-09-04T08:15:39.299553Z"
    },
    "collapsed": false,
    "tags": []
   },
   "outputs": [],
   "source": [
    "..."
   ]
  },
  {
   "cell_type": "markdown",
   "metadata": {
    "collapsed": false,
    "deletable": false,
    "editable": false
   },
   "source": [
    "**1.2 Append 'carrot' to the list my_vegetables.**"
   ]
  },
  {
   "cell_type": "code",
   "execution_count": null,
   "metadata": {
    "ExecuteTime": {
     "end_time": "2023-09-04T08:15:39.431131Z",
     "start_time": "2023-09-04T08:15:39.368637Z"
    },
    "collapsed": false,
    "tags": []
   },
   "outputs": [],
   "source": [
    "my_vegetables = ['cauliflower', 'broccoli', 'cabbage', 'onion']\n",
    "..."
   ]
  },
  {
   "cell_type": "markdown",
   "metadata": {
    "collapsed": false,
    "deletable": false,
    "editable": false
   },
   "source": [
    "**1.3 Remove the rose from the list my_trees.**"
   ]
  },
  {
   "cell_type": "code",
   "execution_count": null,
   "metadata": {
    "ExecuteTime": {
     "end_time": "2023-09-04T08:15:39.517139Z",
     "start_time": "2023-09-04T08:15:39.447885Z"
    },
    "collapsed": false,
    "tags": []
   },
   "outputs": [],
   "source": [
    "my_trees = ['birch', 'oak', 'maple', 'rose', 'spruce']\n",
    "..."
   ]
  },
  {
   "cell_type": "markdown",
   "metadata": {
    "collapsed": false,
    "deletable": false,
    "editable": false
   },
   "source": [
    "**1.4 Add basil between sage and mint to the list my_herbs.**"
   ]
  },
  {
   "cell_type": "code",
   "execution_count": null,
   "metadata": {
    "ExecuteTime": {
     "end_time": "2023-09-04T08:15:39.553432Z",
     "start_time": "2023-09-04T08:15:39.517139Z"
    },
    "collapsed": false,
    "tags": []
   },
   "outputs": [],
   "source": [
    "my_herbs = ['thyme', 'dill', 'sage', 'mint', 'rosemary']\n",
    "..."
   ]
  }
 ],
 "metadata": {
  "kernelspec": {
   "display_name": "Python 3",
   "language": "python",
   "name": "python3"
  },
  "language_info": {
   "codemirror_mode": {
    "name": "ipython",
    "version": 2
   },
   "file_extension": ".py",
   "mimetype": "text/x-python",
   "name": "python",
   "nbconvert_exporter": "python",
   "pygments_lexer": "ipython2",
   "version": "2.7.6"
  },
  "otter": {
   "OK_FORMAT": true,
   "tests": {
    "Task 1.1": {
     "name": "Task 1.1",
     "points": null,
     "suites": [
      {
       "cases": [
        {
         "code": ">>> assert my_fruits == ['apple', 'cherry', 'peach', 'banana', 'strawberry']\n",
         "failure_message": "Test failed. Keep in mind, that the list items are applied as strings.",
         "hidden": false,
         "locked": false,
         "points": 1
        }
       ],
       "scored": true,
       "setup": "",
       "teardown": "",
       "type": "doctest"
      }
     ]
    },
    "Task 1.2": {
     "name": "Task 1.2",
     "points": null,
     "suites": [
      {
       "cases": [
        {
         "code": ">>> assert my_vegetables == ['cauliflower', 'broccoli', 'cabbage', 'onion', 'carrot']\n",
         "failure_message": "Test failed. Keep in mind, to apply 'carrot' as a string.",
         "hidden": false,
         "locked": false,
         "points": 1
        }
       ],
       "scored": true,
       "setup": "",
       "teardown": "",
       "type": "doctest"
      }
     ]
    },
    "Task 1.3": {
     "name": "Task 1.3",
     "points": null,
     "suites": [
      {
       "cases": [
        {
         "code": ">>> assert my_trees == ['birch', 'oak', 'maple', 'spruce']\n",
         "failure_message": "Test failed. Keep in mind, to apply 'rose' as a string.",
         "hidden": false,
         "locked": false,
         "points": 1
        }
       ],
       "scored": true,
       "setup": "",
       "teardown": "",
       "type": "doctest"
      }
     ]
    },
    "Task 1.4": {
     "name": "Task 1.4",
     "points": null,
     "suites": [
      {
       "cases": [
        {
         "code": ">>> assert my_herbs == ['thyme', 'dill', 'sage', 'basil', 'mint', 'rosemary']\n",
         "failure_message": "Test failed. Did you insert 'basil' at position 3?",
         "hidden": false,
         "locked": false,
         "points": 1
        }
       ],
       "scored": true,
       "setup": "",
       "teardown": "",
       "type": "doctest"
      }
     ]
    }
   }
  }
 },
 "nbformat": 4,
 "nbformat_minor": 0
}
