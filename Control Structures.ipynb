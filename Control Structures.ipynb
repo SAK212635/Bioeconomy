{
 "cells": [
  {
   "cell_type": "markdown",
   "metadata": {
    "collapsed": false
   },
   "source": [
    "# 4 Control Structures"
   ]
  },
  {
   "cell_type": "markdown",
   "metadata": {
    "collapsed": false,
    "deletable": false,
    "editable": false
   },
   "source": [
    "### Task 1: Loops\n",
    "**1.1 Write a while loop that iterates through the numbers from 0 to 100 and adds them to a list called enumerate_while.**\n"
   ]
  },
  {
   "cell_type": "code",
   "execution_count": null,
   "metadata": {
    "ExecuteTime": {
     "end_time": "2023-07-18T09:55:52.159128Z",
     "start_time": "2023-07-18T09:55:52.143484Z"
    },
    "collapsed": false,
    "tags": []
   },
   "outputs": [],
   "source": [
    "enumerate_while = []\n",
    "..."
   ]
  },
  {
   "cell_type": "markdown",
   "metadata": {
    "collapsed": false,
    "deletable": false,
    "editable": false
   },
   "source": [
    "**1.2 Provide a second solution that uses a for loop and adds each iteration step to a list called enumerate_for.**\n"
   ]
  },
  {
   "cell_type": "code",
   "execution_count": null,
   "metadata": {
    "ExecuteTime": {
     "end_time": "2023-07-18T09:55:52.243768Z",
     "start_time": "2023-07-18T09:55:52.190416Z"
    },
    "collapsed": false,
    "tags": []
   },
   "outputs": [],
   "source": [
    "enumerate_for = []\n",
    "..."
   ]
  },
  {
   "cell_type": "markdown",
   "metadata": {
    "collapsed": false,
    "deletable": false,
    "editable": false
   },
   "source": [
    "### Task 2\n",
    "**Write code that iterates over `list1` and display numbers divisible by five. The code should stop the loop iteration if it finds a number greater than 150. Save the numbers divisible by 5 to `list_new`.**\n"
   ]
  },
  {
   "cell_type": "code",
   "execution_count": null,
   "metadata": {
    "ExecuteTime": {
     "end_time": "2023-07-18T09:55:52.259409Z",
     "start_time": "2023-07-18T09:55:52.243768Z"
    },
    "collapsed": false,
    "tags": []
   },
   "outputs": [],
   "source": [
    "list1 = [5, 7, 12, 15, 32, 42, 55, 75, 91, 122, 132, 150, 157, 180, 181, 200]\n",
    "..."
   ]
  }
 ],
 "metadata": {
  "kernelspec": {
   "display_name": "Python 3",
   "language": "python",
   "name": "python3"
  },
  "language_info": {
   "codemirror_mode": {
    "name": "ipython",
    "version": 2
   },
   "file_extension": ".py",
   "mimetype": "text/x-python",
   "name": "python",
   "nbconvert_exporter": "python",
   "pygments_lexer": "ipython2",
   "version": "2.7.6"
  },
  "otter": {
   "OK_FORMAT": true,
   "tests": {
    "Task 1.1": {
     "name": "Task 1.1",
     "points": null,
     "suites": [
      {
       "cases": [
        {
         "code": ">>> assert enumerate_while == [0, 1, 2, 3, 4, 5, 6, 7, 8, 9, 10, 11, 12, 13, 14, 15, 16, 17, 18, 19, 20, 21, 22, 23, 24, 25, 26, 27, 28, 29, 30, 31, 32, 33, 34, 35, 36, 37, 38, 39, 40, 41, 42, 43, 44, 45, 46, 47, 48, 49, 50, 51, 52, 53, 54, 55, 56, 57, 58, 59, 60, 61, 62, 63, 64, 65, 66, 67, 68, 69, 70, 71, 72, 73, 74, 75, 76, 77, 78, 79, 80, 81, 82, 83, 84, 85, 86, 87, 88, 89, 90, 91, 92, 93, 94, 95, 96, 97, 98, 99, 100]\n",
         "failure_message": "Test failed. Remember not to exclude 100.",
         "hidden": false,
         "locked": false,
         "points": 1
        }
       ],
       "scored": true,
       "setup": "",
       "teardown": "",
       "type": "doctest"
      }
     ]
    },
    "Task 1.2": {
     "name": "Task 1.2",
     "points": null,
     "suites": [
      {
       "cases": [
        {
         "code": ">>> assert enumerate_for == [0, 1, 2, 3, 4, 5, 6, 7, 8, 9, 10, 11, 12, 13, 14, 15, 16, 17, 18, 19, 20, 21, 22, 23, 24, 25, 26, 27, 28, 29, 30, 31, 32, 33, 34, 35, 36, 37, 38, 39, 40, 41, 42, 43, 44, 45, 46, 47, 48, 49, 50, 51, 52, 53, 54, 55, 56, 57, 58, 59, 60, 61, 62, 63, 64, 65, 66, 67, 68, 69, 70, 71, 72, 73, 74, 75, 76, 77, 78, 79, 80, 81, 82, 83, 84, 85, 86, 87, 88, 89, 90, 91, 92, 93, 94, 95, 96, 97, 98, 99, 100]\n",
         "failure_message": "Test failed. Keep in mind, that the stop-Parameter of the range()-Function is not included.",
         "hidden": false,
         "locked": false,
         "points": 1
        }
       ],
       "scored": true,
       "setup": "",
       "teardown": "",
       "type": "doctest"
      }
     ]
    },
    "Task 2.1": {
     "name": "Task 2.1",
     "points": null,
     "suites": [
      {
       "cases": [
        {
         "code": ">>> assert list_new == [5, 15, 55, 75, 150]\n",
         "failure_message": "Test failed.",
         "hidden": false,
         "locked": false,
         "points": 1
        }
       ],
       "scored": true,
       "setup": "",
       "teardown": "",
       "type": "doctest"
      }
     ]
    }
   }
  }
 },
 "nbformat": 4,
 "nbformat_minor": 0
}
