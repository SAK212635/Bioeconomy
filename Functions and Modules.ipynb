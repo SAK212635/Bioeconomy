{
 "cells": [
  {
   "cell_type": "markdown",
   "metadata": {
    "collapsed": false
   },
   "source": [
    "# 5 Functions and Modules"
   ]
  },
  {
   "cell_type": "markdown",
   "metadata": {
    "collapsed": false,
    "deletable": false,
    "editable": false
   },
   "source": [
    "### Task 1\n",
    "**Write a function `square_fun` that returns the square of its argument.**"
   ]
  },
  {
   "cell_type": "code",
   "execution_count": null,
   "metadata": {
    "ExecuteTime": {
     "end_time": "2023-07-18T09:57:52.186242Z",
     "start_time": "2023-07-18T09:57:52.186242Z"
    },
    "collapsed": false,
    "tags": []
   },
   "outputs": [],
   "source": [
    "def square_fun(x):\n",
    "    ..."
   ]
  },
  {
   "cell_type": "markdown",
   "metadata": {
    "collapsed": false,
    "deletable": false,
    "editable": false
   },
   "source": [
    "### Task 2\n",
    "**Write a function `reverse_list` that takes a list of integers as input and returns the list in reverse.**"
   ]
  },
  {
   "cell_type": "code",
   "execution_count": null,
   "metadata": {
    "ExecuteTime": {
     "end_time": "2023-07-18T09:57:52.286569Z",
     "start_time": "2023-07-18T09:57:52.270914Z"
    },
    "collapsed": false,
    "tags": []
   },
   "outputs": [],
   "source": [
    "def reverse_list(lst):\n",
    "    ..."
   ]
  },
  {
   "cell_type": "markdown",
   "metadata": {
    "collapsed": false,
    "deletable": false,
    "editable": false
   },
   "source": [
    "### Task 3\n",
    " **Write a function `is_prime` that takes an integer as input and returns `True` if it is a prime number, and `False` otherwise.**"
   ]
  },
  {
   "cell_type": "code",
   "execution_count": null,
   "metadata": {
    "ExecuteTime": {
     "end_time": "2023-07-18T09:57:52.386855Z",
     "start_time": "2023-07-18T09:57:52.302193Z"
    },
    "collapsed": false,
    "tags": []
   },
   "outputs": [],
   "source": [
    "def is_prime(num):\n",
    "    ..."
   ]
  },
  {
   "cell_type": "markdown",
   "metadata": {
    "collapsed": false,
    "deletable": false,
    "editable": false
   },
   "source": [
    "### Task 4\n",
    "**Write a function `is_even` that takes an integer as input and returns `True` if it is an even number, and `False` otherwise. \\\n",
    "Negative numbers are not considered even or odd. When entering a negative number the function should return `0`.**\n"
   ]
  },
  {
   "cell_type": "code",
   "execution_count": null,
   "metadata": {
    "ExecuteTime": {
     "end_time": "2023-07-18T09:57:52.502370Z",
     "start_time": "2023-07-18T09:57:52.443461Z"
    },
    "collapsed": false,
    "tags": []
   },
   "outputs": [],
   "source": [
    "def is_even(num):\n",
    "    ..."
   ]
  },
  {
   "cell_type": "markdown",
   "metadata": {
    "collapsed": false,
    "deletable": false,
    "editable": false
   },
   "source": [
    "### Task 5\n",
    "**Write a function `get_common_elements` that takes two lists as input and returns a new list containing the common elements between them.**\n",
    "\n",
    "*Hint: You might want to use the set() function to transform the list to a set for the comparison. https://python-reference.readthedocs.io/en/latest/docs/sets/*"
   ]
  },
  {
   "cell_type": "code",
   "execution_count": null,
   "metadata": {
    "ExecuteTime": {
     "end_time": "2023-07-18T09:57:52.649540Z",
     "start_time": "2023-07-18T09:57:52.549245Z"
    },
    "collapsed": false,
    "tags": []
   },
   "outputs": [],
   "source": [
    "def get_common_elements(lst1,lst2):\n",
    "    ..."
   ]
  },
  {
   "cell_type": "markdown",
   "metadata": {
    "collapsed": false,
    "deletable": false,
    "editable": false
   },
   "source": [
    "### Task 6\n",
    "**Write a function `broken_by_7` that takes a list of numbers as input and finds the first occurence of a number that is divisible by 7. When such a number is found, the program should stop iterating and `return` the number. If such a number is not found the function should return `False`.**"
   ]
  },
  {
   "cell_type": "code",
   "execution_count": null,
   "metadata": {
    "ExecuteTime": {
     "end_time": "2023-07-18T09:57:52.803146Z",
     "start_time": "2023-07-18T09:57:52.690216Z"
    },
    "collapsed": false,
    "tags": []
   },
   "outputs": [],
   "source": [
    "def broken_by_7(my_list):\n",
    "    ..."
   ]
  },
  {
   "cell_type": "markdown",
   "metadata": {
    "collapsed": false,
    "deletable": false,
    "editable": false
   },
   "source": [
    "### Task 7\n",
    "**Rewrite the function `summarize` using a while loop. The function takes a positive integer as an input and then sums up all integers between 0 and the given number.**\n",
    "*Hint: The autograder is currently unable to detect if you used the correct loop type.*"
   ]
  },
  {
   "cell_type": "code",
   "execution_count": null,
   "metadata": {
    "ExecuteTime": {
     "end_time": "2023-07-18T09:57:52.818767Z",
     "start_time": "2023-07-18T09:57:52.787527Z"
    },
    "collapsed": false,
    "tags": []
   },
   "outputs": [],
   "source": [
    "def summarize(n):\n",
    "    result = 0\n",
    "    for i in range(0, n+1):\n",
    "        result += i\n",
    "    return result\n",
    "\n",
    "# rewrite the above function into a while loop.\n"
   ]
  }
 ],
 "metadata": {
  "kernelspec": {
   "display_name": "Python 3",
   "language": "python",
   "name": "python3"
  },
  "language_info": {
   "codemirror_mode": {
    "name": "ipython",
    "version": 2
   },
   "file_extension": ".py",
   "mimetype": "text/x-python",
   "name": "python",
   "nbconvert_exporter": "python",
   "pygments_lexer": "ipython2",
   "version": "2.7.6"
  },
  "otter": {
   "OK_FORMAT": true,
   "tests": {
    "Task 1 Square Function": {
     "name": "Task 1 Square Function",
     "points": null,
     "suites": [
      {
       "cases": [
        {
         "code": ">>> result = square_fun(2)\n>>> assert result == 4\n",
         "failure_message": "Test failed at positive numbers",
         "hidden": false,
         "locked": false,
         "points": 1
        },
        {
         "code": ">>> result = square_fun(1)\n>>> assert result == 1\n",
         "failure_message": "Test failed at 1",
         "hidden": false,
         "locked": false,
         "points": 1
        },
        {
         "code": ">>> result = square_fun(0)\n>>> assert result == 0\n",
         "failure_message": "Test failed at 0",
         "hidden": false,
         "locked": false,
         "points": 1
        },
        {
         "code": ">>> result = square_fun(-3)\n>>> assert result == 9\n",
         "failure_message": "Test failed at negative numbers",
         "hidden": false,
         "locked": false,
         "points": 1
        }
       ],
       "scored": true,
       "setup": "",
       "teardown": "",
       "type": "doctest"
      }
     ]
    },
    "Task 2 Reverse List": {
     "name": "Task 2 Reverse List",
     "points": null,
     "suites": [
      {
       "cases": [
        {
         "code": ">>> my_list = [1,2,3,4]\n>>> result = reverse_list(my_list)\n>>> assert result == [4,3,2,1]\n",
         "failure_message": "List is not sorted correctly",
         "hidden": false,
         "locked": false,
         "points": 1
        }
       ],
       "scored": true,
       "setup": "",
       "teardown": "",
       "type": "doctest"
      }
     ]
    },
    "Task 3 Prime Number Checker": {
     "name": "Task 3 Prime Number Checker",
     "points": null,
     "suites": [
      {
       "cases": [
        {
         "code": ">>> result = is_prime(13)\n>>> assert result == True\n",
         "failure_message": "Failed to classify a prime number",
         "hidden": false,
         "locked": false,
         "points": 1
        },
        {
         "code": ">>> result = is_prime(89)\n>>> assert result == True\n",
         "failure_message": "Failed to classify a prime number",
         "hidden": false,
         "locked": false,
         "points": 1
        },
        {
         "code": ">>> result = is_prime(1)\n>>> assert result == False\n",
         "failure_message": "Classified 1 as a prime number",
         "hidden": false,
         "locked": false,
         "points": 1
        },
        {
         "code": ">>> result = is_prime(-13)\n>>> assert result == False\n",
         "failure_message": "Negative numbers are no prime numbers",
         "hidden": false,
         "locked": false,
         "points": 1
        },
        {
         "code": ">>> result = is_prime(4)\n>>> assert result == False\n",
         "failure_message": "Classified a non-prime number as prime number",
         "hidden": false,
         "locked": false,
         "points": 1
        },
        {
         "code": ">>> result = is_prime(200)\n>>> assert result == False\n",
         "failure_message": "Classified a non-prime number as prime number",
         "hidden": false,
         "locked": false,
         "points": 1
        }
       ],
       "scored": true,
       "setup": "",
       "teardown": "",
       "type": "doctest"
      }
     ]
    },
    "Task 4 Odd or Even": {
     "name": "Task 4 Odd or Even",
     "points": null,
     "suites": [
      {
       "cases": [
        {
         "code": ">>> result = is_even(10)\n>>> assert result == True\n",
         "failure_message": "Failed to detect even number",
         "hidden": false,
         "locked": false,
         "points": 1
        },
        {
         "code": ">>> result = is_even(5)\n>>> assert result == False\n",
         "failure_message": "Failed to detect uneven number",
         "hidden": false,
         "locked": false,
         "points": 1
        },
        {
         "code": ">>> result = is_even(-40)\n>>> assert result == 0\n",
         "failure_message": "Function should return \"Error\" when entering negative number",
         "hidden": false,
         "locked": false,
         "points": 1,
         "success_message": "Succesfully detected negative numbers as invalid input"
        }
       ],
       "scored": true,
       "setup": "",
       "teardown": "",
       "type": "doctest"
      }
     ]
    },
    "Task 5 List Duplicate Checker": {
     "name": "Task 5 List Duplicate Checker",
     "points": null,
     "suites": [
      {
       "cases": [
        {
         "code": ">>> result = get_common_elements([1,2,3,4],[3,4,5,6])\n>>> assert result == [3,4]\n",
         "failure_message": "Failed to get common items of the lists",
         "hidden": false,
         "locked": false,
         "points": 1
        },
        {
         "code": ">>> result = get_common_elements([],[])\n>>> assert result == []\n",
         "failure_message": "Failed at empty lists",
         "hidden": false,
         "locked": false,
         "points": 1
        },
        {
         "code": ">>> result = get_common_elements([1,2,3],[7,8,9])\n>>> assert result == []\n",
         "failure_message": "Failed at lists with no match",
         "hidden": false,
         "locked": false,
         "points": 1
        },
        {
         "code": ">>> result = get_common_elements([1,2,3],[7,8,9,3])\n>>> assert result == [3]\n",
         "failure_message": "Failed at lists with different lengths",
         "hidden": false,
         "locked": false,
         "points": 1
        },
        {
         "code": ">>> result = get_common_elements([1,2,3,\"a\"],[7,8,9,\"3\",\"a\"])\n>>> assert result == [\"a\"]\n",
         "failure_message": "Failed at lists with different data types",
         "hidden": false,
         "locked": false,
         "points": 1
        },
        {
         "code": ">>> result = get_common_elements([1,2,3],[])\n>>> assert result == []\n",
         "failure_message": "Failed at comparrison of empty list and filled list",
         "hidden": false,
         "locked": false,
         "points": 1
        }
       ],
       "scored": true,
       "setup": "",
       "teardown": "",
       "type": "doctest"
      }
     ]
    },
    "Task 6 Break Statement": {
     "name": "Task 6 Break Statement",
     "points": null,
     "suites": [
      {
       "cases": [
        {
         "code": ">>> my_list = [1,2,3,4,5,6,7,8,9,14]\n>>> assert broken_by_7(my_list) == 7\n",
         "failure_message": "Failed to detect the right number",
         "hidden": false,
         "locked": false,
         "points": 1,
         "success_message": "Result correct"
        },
        {
         "code": ">>> my_list = []\n>>> assert broken_by_7(my_list) == False\n",
         "failure_message": "Test failed for empty lists",
         "hidden": false,
         "locked": false,
         "points": 1
        },
        {
         "code": ">>> my_list = [14]\n>>> assert broken_by_7(my_list) == 14\n",
         "failure_message": "Test failed for list with one entry",
         "hidden": false,
         "locked": false,
         "points": 1
        },
        {
         "code": ">>> my_list = [1,2,3,4,5,6,12,8,9,23]\n>>> assert broken_by_7(my_list) == False\n",
         "failure_message": "Test failed for lists without valid numbers",
         "hidden": false,
         "locked": false,
         "points": 1
        }
       ],
       "scored": true,
       "setup": "",
       "teardown": "",
       "type": "doctest"
      }
     ]
    },
    "Task 7 Transforming Loops": {
     "name": "Task 7 Transforming Loops",
     "points": null,
     "suites": [
      {
       "cases": [
        {
         "code": ">>> assert summarize(5) == 15\n",
         "failure_message": "Your solution produced a wrong sum",
         "hidden": false,
         "locked": false,
         "points": 1,
         "success_message": "Your function output is correct. But did you use a while loop?"
        },
        {
         "code": ">>> assert summarize(10) == 55\n",
         "failure_message": "Your solution produced a wrong sum",
         "hidden": false,
         "locked": false,
         "points": 1,
         "success_message": "Your function output is correct. But did you use a while loop?"
        },
        {
         "code": ">>> assert summarize(10) == 45\n",
         "hidden": false,
         "locked": false,
         "points": 0,
         "success_message": "Check the condition of your while loop"
        }
       ],
       "scored": true,
       "setup": "",
       "teardown": "",
       "type": "doctest"
      }
     ]
    }
   }
  }
 },
 "nbformat": 4,
 "nbformat_minor": 0
}
