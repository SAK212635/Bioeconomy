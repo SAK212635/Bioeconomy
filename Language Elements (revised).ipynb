{
 "cells": [
  {
   "cell_type": "markdown",
   "metadata": {
    "collapsed": false
   },
   "source": [
    "# 1 Language Elements"
   ]
  },
  {
   "cell_type": "markdown",
   "metadata": {
    "collapsed": false,
    "deletable": false,
    "editable": false
   },
   "source": [
    "# Task 1: Operations\n",
    "**Fill in the missing variables to complete the following calculations.**"
   ]
  },
  {
   "cell_type": "markdown",
   "metadata": {
    "collapsed": false,
    "deletable": false,
    "editable": false
   },
   "source": [
    "**a) i = 4**"
   ]
  },
  {
   "cell_type": "code",
   "execution_count": null,
   "metadata": {
    "ExecuteTime": {
     "end_time": "2023-10-24T10:29:41.677058Z",
     "start_time": "2023-10-24T10:29:37.314883Z"
    },
    "collapsed": false,
    "tags": []
   },
   "outputs": [],
   "source": [
    "a = ...\n",
    "i = a + a\n",
    "print(i)"
   ]
  },
  {
   "cell_type": "markdown",
   "metadata": {
    "collapsed": false,
    "deletable": false,
    "editable": false
   },
   "source": [
    "**b) ii = 6.0**"
   ]
  },
  {
   "cell_type": "code",
   "execution_count": null,
   "metadata": {
    "ExecuteTime": {
     "end_time": "2023-10-24T10:29:41.802065Z",
     "start_time": "2023-10-24T10:29:37.378877Z"
    },
    "collapsed": false,
    "tags": []
   },
   "outputs": [],
   "source": [
    "a = 5\n",
    "b = ...\n",
    "ii = a + b\n",
    "print(ii)"
   ]
  },
  {
   "cell_type": "markdown",
   "metadata": {
    "collapsed": false,
    "deletable": false,
    "editable": false
   },
   "source": [
    "**c) iii = 4.0**"
   ]
  },
  {
   "cell_type": "code",
   "execution_count": null,
   "metadata": {
    "ExecuteTime": {
     "end_time": "2023-10-24T10:29:41.835069Z",
     "start_time": "2023-10-24T10:29:37.446879Z"
    },
    "collapsed": false,
    "tags": []
   },
   "outputs": [],
   "source": [
    "a = 2\n",
    "b = 2.0\n",
    "iii = ...\n",
    "print(iii)"
   ]
  },
  {
   "cell_type": "markdown",
   "metadata": {
    "collapsed": false,
    "deletable": false,
    "editable": false
   },
   "source": [
    "**d) iv = 2**"
   ]
  },
  {
   "cell_type": "code",
   "execution_count": null,
   "metadata": {
    "ExecuteTime": {
     "end_time": "2023-10-24T10:29:41.889169Z",
     "start_time": "2023-10-24T10:29:37.513877Z"
    },
    "collapsed": false,
    "tags": []
   },
   "outputs": [],
   "source": [
    "c = ...\n",
    "a = 1\n",
    "iv = c - a\n",
    "print(iv)"
   ]
  },
  {
   "cell_type": "markdown",
   "metadata": {
    "collapsed": false,
    "deletable": false,
    "editable": false
   },
   "source": [
    "**e) v = 2.0**"
   ]
  },
  {
   "cell_type": "code",
   "execution_count": null,
   "metadata": {
    "ExecuteTime": {
     "end_time": "2023-10-24T10:29:41.919066Z",
     "start_time": "2023-10-24T10:29:37.575878Z"
    },
    "collapsed": false,
    "tags": []
   },
   "outputs": [],
   "source": [
    "c = 3\n",
    "a = ...\n",
    "v = c - a\n",
    "print(v)"
   ]
  },
  {
   "cell_type": "markdown",
   "metadata": {
    "collapsed": false,
    "deletable": false,
    "editable": false
   },
   "source": [
    "**f) vi = 1.5**"
   ]
  },
  {
   "cell_type": "code",
   "execution_count": null,
   "metadata": {
    "ExecuteTime": {
     "end_time": "2023-10-24T10:29:41.955100Z",
     "start_time": "2023-10-24T10:29:37.635877Z"
    },
    "collapsed": false,
    "tags": []
   },
   "outputs": [],
   "source": [
    "c = 6\n",
    "a = 4\n",
    "vi = ...\n",
    "print(vi)"
   ]
  },
  {
   "cell_type": "markdown",
   "metadata": {
    "collapsed": false,
    "deletable": false,
    "editable": false
   },
   "source": [
    "**g) vii = 1**"
   ]
  },
  {
   "cell_type": "code",
   "execution_count": null,
   "metadata": {
    "ExecuteTime": {
     "end_time": "2023-10-24T10:29:41.986092Z",
     "start_time": "2023-10-24T10:29:37.710881Z"
    },
    "collapsed": false,
    "tags": []
   },
   "outputs": [],
   "source": [
    "a = 2\n",
    "c = ...\n",
    "vii = c // a\n",
    "print(vii)\n"
   ]
  },
  {
   "cell_type": "markdown",
   "metadata": {
    "collapsed": false,
    "deletable": false,
    "editable": false
   },
   "source": [
    "**h) viii = 4.0**"
   ]
  },
  {
   "cell_type": "code",
   "execution_count": null,
   "metadata": {
    "ExecuteTime": {
     "end_time": "2023-10-24T10:29:42.016067Z",
     "start_time": "2023-10-24T10:29:37.789876Z"
    },
    "collapsed": false,
    "tags": []
   },
   "outputs": [],
   "source": [
    "b = ...\n",
    "c = 4\n",
    "viii = c / b\n",
    "print(viii)"
   ]
  },
  {
   "cell_type": "markdown",
   "metadata": {
    "collapsed": false,
    "deletable": false,
    "editable": false
   },
   "source": [
    "**i) ix = 2.0**"
   ]
  },
  {
   "cell_type": "code",
   "execution_count": null,
   "metadata": {
    "ExecuteTime": {
     "end_time": "2023-10-24T10:29:42.048095Z",
     "start_time": "2023-10-24T10:29:37.872877Z"
    },
    "collapsed": false,
    "tags": []
   },
   "outputs": [],
   "source": [
    "a = 2\n",
    "c = ...\n",
    "ix = a // c\n",
    "print(ix)"
   ]
  },
  {
   "cell_type": "markdown",
   "metadata": {
    "collapsed": false,
    "deletable": false,
    "editable": false
   },
   "source": [
    "**j) x = 1**"
   ]
  },
  {
   "cell_type": "code",
   "execution_count": null,
   "metadata": {
    "ExecuteTime": {
     "end_time": "2023-10-24T10:29:42.077067Z",
     "start_time": "2023-10-24T10:29:37.936881Z"
    },
    "collapsed": false,
    "tags": []
   },
   "outputs": [],
   "source": [
    "a = 2\n",
    "b = ...\n",
    "x = b % a\n",
    "print(x)"
   ]
  },
  {
   "cell_type": "markdown",
   "metadata": {
    "collapsed": false,
    "deletable": false,
    "editable": false
   },
   "source": [
    "**k) xi = 0.0**"
   ]
  },
  {
   "cell_type": "code",
   "execution_count": null,
   "metadata": {
    "ExecuteTime": {
     "end_time": "2023-10-24T10:29:42.125136Z",
     "start_time": "2023-10-24T10:29:38.000886Z"
    },
    "collapsed": false,
    "tags": []
   },
   "outputs": [],
   "source": [
    "a = ...\n",
    "c = 3\n",
    "xi = c % a\n",
    "print(xi)"
   ]
  },
  {
   "cell_type": "markdown",
   "metadata": {
    "collapsed": false,
    "deletable": false,
    "editable": false
   },
   "source": [
    "**l) xii = 4**"
   ]
  },
  {
   "cell_type": "code",
   "execution_count": null,
   "metadata": {
    "ExecuteTime": {
     "end_time": "2023-10-24T10:29:42.157103Z",
     "start_time": "2023-10-24T10:29:38.068881Z"
    },
    "collapsed": false,
    "tags": []
   },
   "outputs": [],
   "source": [
    "c = ...\n",
    "xii = c * c\n",
    "print(xii)"
   ]
  },
  {
   "cell_type": "markdown",
   "metadata": {
    "collapsed": false,
    "deletable": false,
    "editable": false
   },
   "source": [
    "**m) xiii = 8.0**"
   ]
  },
  {
   "cell_type": "code",
   "execution_count": null,
   "metadata": {
    "ExecuteTime": {
     "end_time": "2023-10-24T10:29:42.187060Z",
     "start_time": "2023-10-24T10:29:38.152895Z"
    },
    "collapsed": false,
    "tags": []
   },
   "outputs": [],
   "source": [
    "a = 8\n",
    "c = ...\n",
    "xiii = a * c\n",
    "print(xiii)"
   ]
  },
  {
   "cell_type": "markdown",
   "metadata": {
    "collapsed": false,
    "deletable": false,
    "editable": false
   },
   "source": [
    "**n) xiv = 8**"
   ]
  },
  {
   "cell_type": "code",
   "execution_count": null,
   "metadata": {
    "ExecuteTime": {
     "end_time": "2023-10-24T10:29:42.217119Z",
     "start_time": "2023-10-24T10:29:38.242889Z"
    },
    "collapsed": false,
    "tags": []
   },
   "outputs": [],
   "source": [
    "a = 2\n",
    "c = 3\n",
    "xiv = ...\n",
    "print(xiv)"
   ]
  },
  {
   "cell_type": "markdown",
   "metadata": {
    "collapsed": false,
    "deletable": false,
    "editable": false
   },
   "source": [
    "**o) xv = 4.0**"
   ]
  },
  {
   "cell_type": "code",
   "execution_count": null,
   "metadata": {
    "ExecuteTime": {
     "end_time": "2023-10-24T10:29:42.248064Z",
     "start_time": "2023-10-24T10:29:38.326879Z"
    },
    "collapsed": false,
    "tags": []
   },
   "outputs": [],
   "source": [
    "b = 4\n",
    "a = ...\n",
    "xv = b ** a\n",
    "print(xv)"
   ]
  },
  {
   "cell_type": "markdown",
   "metadata": {
    "collapsed": false,
    "deletable": false,
    "editable": false
   },
   "source": [
    "**p) xvi = 3**"
   ]
  },
  {
   "cell_type": "code",
   "execution_count": null,
   "metadata": {
    "ExecuteTime": {
     "end_time": "2023-10-24T10:29:42.277078Z",
     "start_time": "2023-10-24T10:29:38.415879Z"
    },
    "collapsed": false,
    "tags": []
   },
   "outputs": [],
   "source": [
    "a = ...\n",
    "b = 1.5\n",
    "xvi = a + int(b)\n",
    "print(xvi)"
   ]
  },
  {
   "cell_type": "markdown",
   "metadata": {
    "collapsed": false,
    "deletable": false,
    "editable": false
   },
   "source": [
    "**q) xvii = 5**"
   ]
  },
  {
   "cell_type": "code",
   "execution_count": null,
   "metadata": {
    "ExecuteTime": {
     "end_time": "2023-10-24T10:29:42.289059Z",
     "start_time": "2023-10-24T10:29:38.489881Z"
    },
    "collapsed": false,
    "tags": []
   },
   "outputs": [],
   "source": [
    "a = ...\n",
    "b = 1.5\n",
    "xvii = a + round(b)"
   ]
  },
  {
   "cell_type": "markdown",
   "metadata": {
    "collapsed": false,
    "deletable": false,
    "editable": false
   },
   "source": [
    "**r) xviii = 6.0**\n"
   ]
  },
  {
   "cell_type": "code",
   "execution_count": null,
   "metadata": {
    "ExecuteTime": {
     "end_time": "2023-10-24T10:29:42.320059Z",
     "start_time": "2023-10-24T10:29:38.569879Z"
    },
    "collapsed": false,
    "tags": []
   },
   "outputs": [],
   "source": [
    "a = ...\n",
    "b = 1.5\n",
    "xviii = a + float(int(b))\n"
   ]
  },
  {
   "cell_type": "markdown",
   "metadata": {
    "collapsed": false,
    "deletable": false,
    "editable": false
   },
   "source": [
    "**s) xix = 9.0**"
   ]
  },
  {
   "cell_type": "code",
   "execution_count": null,
   "metadata": {
    "ExecuteTime": {
     "end_time": "2023-10-24T10:29:42.371062Z",
     "start_time": "2023-10-24T10:29:38.657880Z"
    },
    "collapsed": false,
    "tags": []
   },
   "outputs": [],
   "source": [
    "a = ...\n",
    "c = 3\n",
    "xix = a + float(c)"
   ]
  },
  {
   "cell_type": "markdown",
   "metadata": {
    "collapsed": false,
    "deletable": false,
    "editable": false
   },
   "source": [
    "# Task 2: Strings\n",
    "**2.1 How are the following statements generated?**\n",
    "\n",
    "**a) xx = 'Lebensmittelinformatik'**"
   ]
  },
  {
   "cell_type": "code",
   "execution_count": null,
   "metadata": {
    "ExecuteTime": {
     "end_time": "2023-10-24T10:29:42.407068Z",
     "start_time": "2023-10-24T10:29:38.733886Z"
    },
    "collapsed": false,
    "tags": []
   },
   "outputs": [],
   "source": [
    "d = 'Lebensmittel'\n",
    "e = ...\n",
    "xx = d + e\n",
    "print(xx)"
   ]
  },
  {
   "cell_type": "markdown",
   "metadata": {
    "collapsed": false,
    "deletable": false,
    "editable": false
   },
   "source": [
    "**b) xxi = 'LebensmittelLebensmittel'**"
   ]
  },
  {
   "cell_type": "code",
   "execution_count": null,
   "metadata": {
    "ExecuteTime": {
     "end_time": "2023-10-24T10:29:42.473078Z",
     "start_time": "2023-10-24T10:29:38.805881Z"
    },
    "collapsed": false,
    "tags": []
   },
   "outputs": [],
   "source": [
    "k = ...\n",
    "xxi = 2 * k\n",
    "print(xxi)"
   ]
  },
  {
   "cell_type": "markdown",
   "metadata": {
    "collapsed": false,
    "deletable": false,
    "editable": false
   },
   "source": [
    "**c) xxii = 'forklift'**"
   ]
  },
  {
   "cell_type": "code",
   "execution_count": null,
   "metadata": {
    "ExecuteTime": {
     "end_time": "2023-10-24T10:29:42.485060Z",
     "start_time": "2023-10-24T10:29:38.902894Z"
    },
    "collapsed": false,
    "tags": []
   },
   "outputs": [],
   "source": [
    "e = 'informatik'\n",
    "f = e[2:5] + e[9]\n",
    "g = ...\n",
    "xxii = f + g"
   ]
  },
  {
   "cell_type": "markdown",
   "metadata": {
    "collapsed": false,
    "deletable": false,
    "editable": false
   },
   "source": [
    "**d) xxiii = 'Vertical farming'**"
   ]
  },
  {
   "cell_type": "code",
   "execution_count": null,
   "metadata": {
    "ExecuteTime": {
     "end_time": "2023-10-24T10:29:42.546069Z",
     "start_time": "2023-10-24T10:29:38.980879Z"
    },
    "collapsed": false,
    "tags": []
   },
   "outputs": [],
   "source": [
    "e = 'informatik'\n",
    "h = e[2] + e[6] +e[4] + e[5]\n",
    "j = ...\n",
    "xxiii = 'Vertical ' + h + j"
   ]
  },
  {
   "cell_type": "markdown",
   "metadata": {
    "collapsed": false,
    "deletable": false,
    "editable": false
   },
   "source": [
    "**2.2 What is the output of the following print() Functions?**\n",
    "\n",
    "**d = 'Lebensmittel'**\n",
    "**e = 'informatik'**\n",
    "\n",
    "**a) print(\"d\" + 'e')**"
   ]
  },
  {
   "cell_type": "code",
   "execution_count": null,
   "metadata": {
    "ExecuteTime": {
     "end_time": "2023-10-24T10:29:42.557090Z",
     "start_time": "2023-10-24T10:29:39.041881Z"
    },
    "collapsed": false,
    "tags": []
   },
   "outputs": [],
   "source": [
    "output_1 = ..."
   ]
  },
  {
   "cell_type": "markdown",
   "metadata": {
    "collapsed": false,
    "deletable": false,
    "editable": false
   },
   "source": [
    "**b) print(d + \" \" + e)**"
   ]
  },
  {
   "cell_type": "code",
   "execution_count": null,
   "metadata": {
    "ExecuteTime": {
     "end_time": "2023-10-24T10:29:42.604094Z",
     "start_time": "2023-10-24T10:29:39.109877Z"
    },
    "collapsed": false,
    "tags": []
   },
   "outputs": [],
   "source": [
    "output_2 = ..."
   ]
  },
  {
   "cell_type": "markdown",
   "metadata": {
    "collapsed": false,
    "deletable": false,
    "editable": false
   },
   "source": [
    "**c) print(d)**"
   ]
  },
  {
   "cell_type": "code",
   "execution_count": null,
   "metadata": {
    "ExecuteTime": {
     "end_time": "2023-10-24T10:29:42.634094Z",
     "start_time": "2023-10-24T10:29:39.171877Z"
    },
    "collapsed": false,
    "tags": []
   },
   "outputs": [],
   "source": [
    "output_3 = ..."
   ]
  },
  {
   "cell_type": "markdown",
   "metadata": {
    "collapsed": false,
    "deletable": false,
    "editable": false
   },
   "source": [
    "**2.3 Generate the word 'farm2fork' and save it using variable `k`.**\n"
   ]
  },
  {
   "cell_type": "code",
   "execution_count": null,
   "metadata": {
    "ExecuteTime": {
     "end_time": "2023-10-24T10:29:42.666065Z",
     "start_time": "2023-10-24T10:29:39.234879Z"
    },
    "collapsed": false,
    "tags": []
   },
   "outputs": [],
   "source": [
    "h = 'fork'\n",
    "j = 'farm'\n",
    "k = ...\n",
    "print(k)"
   ]
  },
  {
   "cell_type": "markdown",
   "metadata": {
    "collapsed": false,
    "deletable": false,
    "editable": false
   },
   "source": [
    "**2.4 Apply the correct operations.**\n",
    "\n",
    "_For example:_\n",
    "_Task:&nbsp;&nbsp;&nbsp;&nbsp;&nbsp;&nbsp;&nbsp;&nbsp;Count the a's appearing within the string l. Save the result using the variable `result`._\n",
    "\n",
    "_Solution: &nbsp;&nbsp;&nbsp;&nbsp;&nbsp;&nbsp;&nbsp;&nbsp;l = 'farm2fork'_\n",
    "&nbsp;&nbsp;&nbsp;&nbsp;&nbsp;&nbsp;&nbsp;&nbsp;&nbsp;&nbsp;&nbsp;&nbsp;&nbsp;&nbsp;&nbsp;_result = l.count('a')_\n",
    "\n",
    "**a) Count the 0's appearing within the string l. Save the result using the variable `count_1`.**"
   ]
  },
  {
   "cell_type": "code",
   "execution_count": null,
   "metadata": {
    "ExecuteTime": {
     "end_time": "2023-10-24T10:29:42.694066Z",
     "start_time": "2023-10-24T10:29:39.290884Z"
    },
    "collapsed": false,
    "tags": []
   },
   "outputs": [],
   "source": [
    "l = 'farm2fork'\n",
    "count_1 = ..."
   ]
  },
  {
   "cell_type": "markdown",
   "metadata": {
    "collapsed": false,
    "deletable": false,
    "editable": false
   },
   "source": [
    "**b) Count the o's appearing within the string l? Save the result using the variable `count_2`.**"
   ]
  },
  {
   "cell_type": "code",
   "execution_count": null,
   "metadata": {
    "ExecuteTime": {
     "end_time": "2023-10-24T10:29:42.724097Z",
     "start_time": "2023-10-24T10:29:39.374883Z"
    },
    "collapsed": false,
    "tags": []
   },
   "outputs": [],
   "source": [
    "l = 'farm2fork'\n",
    "count_2 = ..."
   ]
  },
  {
   "cell_type": "markdown",
   "metadata": {
    "collapsed": false,
    "deletable": false,
    "editable": false
   },
   "source": [
    "**c) Check the length of the string l. Save the result using the variable `length_1`.**"
   ]
  },
  {
   "cell_type": "code",
   "execution_count": null,
   "metadata": {
    "ExecuteTime": {
     "end_time": "2023-10-24T10:29:42.756065Z",
     "start_time": "2023-10-24T10:29:39.436878Z"
    },
    "collapsed": false,
    "tags": []
   },
   "outputs": [],
   "source": [
    "l = 'farm2fork'\n",
    "length_1 = ..."
   ]
  },
  {
   "cell_type": "markdown",
   "metadata": {
    "collapsed": false,
    "deletable": false,
    "editable": false
   },
   "source": [
    "### Task 3\n",
    "**Use the string `truth` for the following tasks:**\n",
    "1. Create a variable called `doubled_truth` which contains the string 2 times.\n",
    "2. Create a variable called `reversed_truth` which contains the string in reversed order.\n",
    "3. Create a variable called `half_truth` which contains exactly the first half of the string.\n",
    "4. Create a variable called `connected_truth` which contains the contents of task 1,2  and 3."
   ]
  },
  {
   "cell_type": "code",
   "execution_count": null,
   "metadata": {
    "ExecuteTime": {
     "end_time": "2023-10-24T10:29:42.839060Z",
     "start_time": "2023-10-24T10:29:39.517878Z"
    },
    "collapsed": false,
    "tags": []
   },
   "outputs": [],
   "source": [
    "truth = \"Foodinformatics is Funinformatics\"\n",
    "\n",
    "doubled_truth = ...\n",
    "reversed_truth = ...\n",
    "half_truth = ...\n",
    "connected_truth = ..."
   ]
  }
 ],
 "metadata": {
  "kernelspec": {
   "display_name": "Python 3",
   "language": "python",
   "name": "python3"
  },
  "language_info": {
   "codemirror_mode": {
    "name": "ipython",
    "version": 2
   },
   "file_extension": ".py",
   "mimetype": "text/x-python",
   "name": "python",
   "nbconvert_exporter": "python",
   "pygments_lexer": "ipython2",
   "version": "2.7.6"
  },
  "otter": {
   "OK_FORMAT": true,
   "tests": {
    "Task 1 a Operations": {
     "name": "Task 1 a Operations",
     "points": null,
     "suites": [
      {
       "cases": [
        {
         "code": ">>> assert i == 4 and isinstance(i, int)\n",
         "failure_message": "Test failed. Check, whether your variable is an integer.",
         "hidden": false,
         "locked": false,
         "points": 1
        }
       ],
       "scored": true,
       "setup": "",
       "teardown": "",
       "type": "doctest"
      }
     ]
    },
    "Task 1 b Operations": {
     "name": "Task 1 b Operations",
     "points": null,
     "suites": [
      {
       "cases": [
        {
         "code": ">>> assert ii == 6 and isinstance(ii, float)\n",
         "failure_message": "Test failed. Check, whether your variable is a float.",
         "hidden": false,
         "locked": false,
         "points": 1
        }
       ],
       "scored": true,
       "setup": "",
       "teardown": "",
       "type": "doctest"
      }
     ]
    },
    "Task 1 c Operations": {
     "name": "Task 1 c Operations",
     "points": null,
     "suites": [
      {
       "cases": [
        {
         "code": ">>> assert iii == 4 and isinstance(iii, float)\n",
         "failure_message": "Test failed. Try a summation.",
         "hidden": false,
         "locked": false,
         "points": 1
        }
       ],
       "scored": true,
       "setup": "",
       "teardown": "",
       "type": "doctest"
      }
     ]
    },
    "Task 1 d Operations": {
     "name": "Task 1 d Operations",
     "points": null,
     "suites": [
      {
       "cases": [
        {
         "code": ">>> assert iv == 2 and isinstance(iv, int)\n",
         "failure_message": "Test failed. Check, whether your variable is an integer.",
         "hidden": false,
         "locked": false,
         "points": 1
        }
       ],
       "scored": true,
       "setup": "",
       "teardown": "",
       "type": "doctest"
      }
     ]
    },
    "Task 1 e Operations": {
     "name": "Task 1 e Operations",
     "points": null,
     "suites": [
      {
       "cases": [
        {
         "code": ">>> assert v == 2 and isinstance(v, float)\n",
         "failure_message": "Test failed. Check, whether your variable is a float.",
         "hidden": false,
         "locked": false,
         "points": 1
        }
       ],
       "scored": true,
       "setup": "",
       "teardown": "",
       "type": "doctest"
      }
     ]
    },
    "Task 1 f Operations": {
     "name": "Task 1 f Operations",
     "points": null,
     "suites": [
      {
       "cases": [
        {
         "code": ">>> assert vi == 1.5\n",
         "failure_message": "Test failed. Try a division.",
         "hidden": false,
         "locked": false,
         "points": 1
        }
       ],
       "scored": true,
       "setup": "",
       "teardown": "",
       "type": "doctest"
      }
     ]
    },
    "Task 1 g Operations": {
     "name": "Task 1 g Operations",
     "points": null,
     "suites": [
      {
       "cases": [
        {
         "code": ">>> assert vii == 1 and isinstance(vii, int)\n",
         "failure_message": "Test failed. Check, whether your variable is an integer.",
         "hidden": false,
         "locked": false,
         "points": 1
        }
       ],
       "scored": true,
       "setup": "",
       "teardown": "",
       "type": "doctest"
      }
     ]
    },
    "Task 1 h Operations": {
     "name": "Task 1 h Operations",
     "points": null,
     "suites": [
      {
       "cases": [
        {
         "code": ">>> assert viii == 4 and isinstance(viii, float)\n",
         "failure_message": "Test failed. Check, whether your variable is a float.",
         "hidden": false,
         "locked": false,
         "points": 1
        }
       ],
       "scored": true,
       "setup": "",
       "teardown": "",
       "type": "doctest"
      }
     ]
    },
    "Task 1 i Operations": {
     "name": "Task 1 i Operations",
     "points": null,
     "suites": [
      {
       "cases": [
        {
         "code": ">>> assert ix == 2 and isinstance(ix, float)\n",
         "failure_message": "Test failed. Check, whether your variable is a float.",
         "hidden": false,
         "locked": false,
         "points": 1
        }
       ],
       "scored": true,
       "setup": "",
       "teardown": "",
       "type": "doctest"
      }
     ]
    },
    "Task 1 j Operations": {
     "name": "Task 1 j Operations",
     "points": null,
     "suites": [
      {
       "cases": [
        {
         "code": ">>> assert x == 1 and isinstance(x, int)\n",
         "failure_message": "Test failed. Check, whether your variable is an integer.",
         "hidden": false,
         "locked": false,
         "points": 1
        }
       ],
       "scored": true,
       "setup": "",
       "teardown": "",
       "type": "doctest"
      }
     ]
    },
    "Task 1 k Operations": {
     "name": "Task 1 k Operations",
     "points": null,
     "suites": [
      {
       "cases": [
        {
         "code": ">>> assert xi == 0 and isinstance(xi, float)\n",
         "failure_message": "Test failed. Check, whether your variable is a float.",
         "hidden": false,
         "locked": false,
         "points": 1
        }
       ],
       "scored": true,
       "setup": "",
       "teardown": "",
       "type": "doctest"
      }
     ]
    },
    "Task 1 l Operations": {
     "name": "Task 1 l Operations",
     "points": null,
     "suites": [
      {
       "cases": [
        {
         "code": ">>> assert xii == 4 and isinstance(xii, int)\n",
         "failure_message": "Test failed. Check, whether your variable is an integer.",
         "hidden": false,
         "locked": false,
         "points": 1
        }
       ],
       "scored": true,
       "setup": "",
       "teardown": "",
       "type": "doctest"
      }
     ]
    },
    "Task 1 m Operations": {
     "name": "Task 1 m Operations",
     "points": null,
     "suites": [
      {
       "cases": [
        {
         "code": ">>> assert xiii == 8 and isinstance(xiii, float)\n",
         "failure_message": "Test failed. Check, whether your variable is a float.",
         "hidden": false,
         "locked": false,
         "points": 1
        }
       ],
       "scored": true,
       "setup": "",
       "teardown": "",
       "type": "doctest"
      }
     ]
    },
    "Task 1 n Operations": {
     "name": "Task 1 n Operations",
     "points": null,
     "suites": [
      {
       "cases": [
        {
         "code": ">>> assert xiv == 8 and isinstance(xiv, int)\n",
         "failure_message": "Test failed. Try an exponentiation.",
         "hidden": false,
         "locked": false,
         "points": 1
        }
       ],
       "scored": true,
       "setup": "",
       "teardown": "",
       "type": "doctest"
      }
     ]
    },
    "Task 1 o Operations": {
     "name": "Task 1 o Operations",
     "points": null,
     "suites": [
      {
       "cases": [
        {
         "code": ">>> assert xv == 4 and isinstance(xv, float)\n",
         "failure_message": "Test failed. Check, whether your variable is a float.",
         "hidden": false,
         "locked": false,
         "points": 1
        }
       ],
       "scored": true,
       "setup": "",
       "teardown": "",
       "type": "doctest"
      }
     ]
    },
    "Task 1 p Operations": {
     "name": "Task 1 p Operations",
     "points": null,
     "suites": [
      {
       "cases": [
        {
         "code": ">>> assert xvi == 3 and isinstance(xvi, int)\n",
         "failure_message": "Test failed. Check, whether your variable a is an integer.",
         "hidden": false,
         "locked": false,
         "points": 1
        }
       ],
       "scored": true,
       "setup": "",
       "teardown": "",
       "type": "doctest"
      }
     ]
    },
    "Task 1 q Operations": {
     "name": "Task 1 q Operations",
     "points": null,
     "suites": [
      {
       "cases": [
        {
         "code": ">>> assert xvii == 5 and isinstance(xvii, int)\n",
         "failure_message": "Test failed. Check, whether your variable a is an integer.",
         "hidden": false,
         "locked": false,
         "points": 1
        }
       ],
       "scored": true,
       "setup": "",
       "teardown": "",
       "type": "doctest"
      }
     ]
    },
    "Task 1 r Operations": {
     "name": "Task 1 r Operations",
     "points": null,
     "suites": [
      {
       "cases": [
        {
         "code": ">>> assert xviii == 6 and isinstance(xviii, float)\n",
         "failure_message": "Test failed. Keep in mind, that float(int(b)) leads to 1.0",
         "hidden": false,
         "locked": false,
         "points": 1
        }
       ],
       "scored": true,
       "setup": "",
       "teardown": "",
       "type": "doctest"
      }
     ]
    },
    "Task 1 s Operations": {
     "name": "Task 1 s Operations",
     "points": null,
     "suites": [
      {
       "cases": [
        {
         "code": ">>> assert xix == 9 and isinstance(xix, float)\n",
         "failure_message": "Test failed.",
         "hidden": false,
         "locked": false,
         "points": 1
        }
       ],
       "scored": true,
       "setup": "",
       "teardown": "",
       "type": "doctest"
      }
     ]
    },
    "Task 2.1 a  Operations": {
     "name": "Task 2.1 a  Operations",
     "points": null,
     "suites": [
      {
       "cases": [
        {
         "code": ">>> assert xx == 'Lebensmittelinformatik' and isinstance(xx, str)\n",
         "failure_message": "Test failed. Check, whether your variable e is a string.",
         "hidden": false,
         "locked": false,
         "points": 1
        }
       ],
       "scored": true,
       "setup": "",
       "teardown": "",
       "type": "doctest"
      }
     ]
    },
    "Task 2.1 b  Operations": {
     "name": "Task 2.1 b  Operations",
     "points": null,
     "suites": [
      {
       "cases": [
        {
         "code": ">>> assert xxi == 'LebensmittelLebensmittel' and isinstance(xxi, str)\n",
         "failure_message": "Test failed. Check, whether your variable k is a string.",
         "hidden": false,
         "locked": false,
         "points": 1
        }
       ],
       "scored": true,
       "setup": "",
       "teardown": "",
       "type": "doctest"
      }
     ]
    },
    "Task 2.1 c  Operations": {
     "name": "Task 2.1 c  Operations",
     "points": null,
     "suites": [
      {
       "cases": [
        {
         "code": ">>> assert xxii == 'forklift' and isinstance(xxii, str)\n",
         "failure_message": "Test failed. Check, whether your variable g is a string.",
         "hidden": false,
         "locked": false,
         "points": 1
        }
       ],
       "scored": true,
       "setup": "",
       "teardown": "",
       "type": "doctest"
      }
     ]
    },
    "Task 2.1 d  Operations": {
     "name": "Task 2.1 d  Operations",
     "points": null,
     "suites": [
      {
       "cases": [
        {
         "code": ">>> assert xxiii == 'Vertical farming' and isinstance(xxiii, str)\n",
         "failure_message": "Test failed. Check, whether your variable j is a string.",
         "hidden": false,
         "locked": false,
         "points": 1
        }
       ],
       "scored": true,
       "setup": "",
       "teardown": "",
       "type": "doctest"
      }
     ]
    },
    "Task 2.2 a  Strings": {
     "name": "Task 2.2 a  Strings",
     "points": null,
     "suites": [
      {
       "cases": [
        {
         "code": ">>> assert output_1 == 'de' and isinstance(output_1, str)\n",
         "failure_message": "Test failed. Check, whether your output_1 is a string.",
         "hidden": false,
         "locked": false,
         "points": 1
        }
       ],
       "scored": true,
       "setup": "",
       "teardown": "",
       "type": "doctest"
      }
     ]
    },
    "Task 2.2 b   Strings": {
     "name": "Task 2.2 b   Strings",
     "points": null,
     "suites": [
      {
       "cases": [
        {
         "code": ">>> assert output_2 == 'Lebensmittel informatik' and isinstance(output_2, str)\n",
         "failure_message": "Test failed. Check, whether your output_2 is a string.",
         "hidden": false,
         "locked": false,
         "points": 1
        }
       ],
       "scored": true,
       "setup": "",
       "teardown": "",
       "type": "doctest"
      }
     ]
    },
    "Task 2.2 c  Strings": {
     "name": "Task 2.2 c  Strings",
     "points": null,
     "suites": [
      {
       "cases": [
        {
         "code": ">>> assert output_3 == 'Lebensmittel' and isinstance(output_3, str)\n",
         "failure_message": "Test failed. Check, whether your output_3 is a string.",
         "hidden": false,
         "locked": false,
         "points": 1
        }
       ],
       "scored": true,
       "setup": "",
       "teardown": "",
       "type": "doctest"
      }
     ]
    },
    "Task 2.3  Strings": {
     "name": "Task 2.3  Strings",
     "points": null,
     "suites": [
      {
       "cases": [
        {
         "code": ">>> assert k == 'farm2fork'\n",
         "failure_message": "Test failed. Keep in mind, that the '2' needs to be a string as well.",
         "hidden": false,
         "locked": false,
         "points": 1
        }
       ],
       "scored": true,
       "setup": "",
       "teardown": "",
       "type": "doctest"
      }
     ]
    },
    "Task 2.4 a  Strings": {
     "name": "Task 2.4 a  Strings",
     "points": null,
     "suites": [
      {
       "cases": [
        {
         "code": ">>> assert count_1 == 0\n",
         "failure_message": "Test failed. Keep in mind, that the '0' needs to be a string.",
         "hidden": false,
         "locked": false,
         "points": 1
        }
       ],
       "scored": true,
       "setup": "",
       "teardown": "",
       "type": "doctest"
      }
     ]
    },
    "Task 2.4 b  Strings": {
     "name": "Task 2.4 b  Strings",
     "points": null,
     "suites": [
      {
       "cases": [
        {
         "code": ">>> assert count_2 == 1\n",
         "failure_message": "Test failed. Keep in mind to only count the lower case letters.",
         "hidden": false,
         "locked": false,
         "points": 1
        }
       ],
       "scored": true,
       "setup": "",
       "teardown": "",
       "type": "doctest"
      }
     ]
    },
    "Task 2.4 c Strings": {
     "name": "Task 2.4 c Strings",
     "points": null,
     "suites": [
      {
       "cases": [
        {
         "code": ">>> assert length_1 == 9\n",
         "failure_message": "Test failed.",
         "hidden": false,
         "locked": false,
         "points": 1
        }
       ],
       "scored": true,
       "setup": "",
       "teardown": "",
       "type": "doctest"
      }
     ]
    },
    "Task 3": {
     "name": "Task 3",
     "points": null,
     "suites": [
      {
       "cases": [
        {
         "code": ">>> assert doubled_truth == 'Foodinformatics is FuninformaticsFoodinformatics is Funinformatics'\n",
         "failure_message": "Test failed for reversed_truth",
         "hidden": false,
         "locked": false,
         "points": 1
        },
        {
         "code": ">>> assert reversed_truth == 'scitamrofninuF si scitamrofnidooF'\n",
         "failure_message": "Test failed for reversed_truth",
         "hidden": false,
         "locked": false,
         "points": 1
        },
        {
         "code": ">>> assert half_truth == 'Foodinformatics ' or half_truth == 'Foodinformatics i'\n",
         "failure_message": "Test failed for half_truth - did you choose the correct point to split the string in half?",
         "hidden": false,
         "locked": false,
         "points": 1
        },
        {
         "code": ">>> assert connected_truth == 'Foodinformatics is FuninformaticsFoodinformatics is FuninformaticsscitamrofninuF si scitamrofnidooFFoodinformatics ' or connected_truth == 'Foodinformatics is FuninformaticsFoodinformatics is FuninformaticsscitamrofninuF si scitamrofnidooFFoodinformatics i'\n",
         "failure_message": "Test failed for connected_truth - did your solve all other tasks?",
         "hidden": false,
         "locked": false,
         "points": 1
        }
       ],
       "scored": true,
       "setup": "",
       "teardown": "",
       "type": "doctest"
      }
     ]
    }
   }
  }
 },
 "nbformat": 4,
 "nbformat_minor": 0
}
